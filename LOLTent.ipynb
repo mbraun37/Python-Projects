{
 "cells": [
  {
   "cell_type": "code",
   "execution_count": 1,
   "metadata": {},
   "outputs": [],
   "source": [
    "## Webscraper Intro\n",
    "import requests\n",
    "from bs4 import BeautifulSoup\n",
    "URL = 'https://lolcounter.com/champions/jinx'\n",
    "page = requests.get(URL)\n",
    "\n",
    "## creation of a bs object that takes the html content that was scraped as input\n",
    "soup = BeautifulSoup(page.content, 'html.parser')\n",
    "\n",
    "results = soup.find(id='championPage')\n",
    "## print(results.prettify()) ## can be used to view the html code\n",
    "\n",
    "## Get counters\n"
   ]
  },
  {
   "cell_type": "code",
   "execution_count": 3,
   "metadata": {
    "scrolled": false
   },
   "outputs": [
    {
     "name": "stdout",
     "output_type": "stream",
     "text": [
      "[<a class=\"left\" href=\"/champions/Ezreal\"><div class=\"name\">Ezreal</div></a>, <a class=\"left\" href=\"/champions/Corki\"><div class=\"name\">Corki</div></a>, <a class=\"left\" href=\"/champions/Sivir\"><div class=\"name\">Sivir</div></a>, <a class=\"left\" href=\"/champions/Varus\"><div class=\"name\">Varus</div></a>, <a class=\"left\" href=\"/champions/Draven\"><div class=\"name\">Draven</div></a>, <a class=\"left\" href=\"/champions/Quinn\"><div class=\"name\">Quinn</div></a>, <a class=\"left\" href=\"/champions/Lucian\"><div class=\"name\">Lucian</div></a>, <a class=\"left\" href=\"/champions/Tristana\"><div class=\"name\">Tristana</div></a>, <a class=\"left\" href=\"/champions/Graves\"><div class=\"name\">Graves</div></a>, <a class=\"left\" href=\"/champions/Ashe\"><div class=\"name\">Ashe</div></a>, <a class=\"left\" href=\"/champions/Twitch\"><div class=\"name\">Twitch</div></a>, <a class=\"left\" href=\"/champions/Aatrox\"><div class=\"name\">Aatrox</div></a>]\n"
     ]
    }
   ],
   "source": [
    "counterBlock = results.find('div', {'class':'weak'})\n",
    "champs = counterBlock.find_all('div', {'class':'champ-block'})\n",
    "names = counterBlock.find_all('a', {'class':'left'})\n",
    "print(names)\n",
    "##names2 = counterBlock.find_all('div', {'class':'name'})\n",
    "    "
   ]
  },
  {
   "cell_type": "code",
   "execution_count": null,
   "metadata": {},
   "outputs": [],
   "source": []
  }
 ],
 "metadata": {
  "kernelspec": {
   "display_name": "Python 3",
   "language": "python",
   "name": "python3"
  },
  "language_info": {
   "codemirror_mode": {
    "name": "ipython",
    "version": 3
   },
   "file_extension": ".py",
   "mimetype": "text/x-python",
   "name": "python",
   "nbconvert_exporter": "python",
   "pygments_lexer": "ipython3",
   "version": "3.7.4"
  }
 },
 "nbformat": 4,
 "nbformat_minor": 2
}
