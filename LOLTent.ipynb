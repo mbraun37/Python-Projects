{
 "cells": [
  {
   "cell_type": "code",
   "execution_count": 65,
   "metadata": {},
   "outputs": [],
   "source": [
    "## Webscraper Intro\n",
    "import requests\n",
    "from bs4 import BeautifulSoup\n",
    "champ_info = \"blitzcrank\"\n",
    "URL = 'https://lolcounter.com/champions/'+champ_info\n",
    "page = requests.get(URL)\n",
    "\n",
    "## creation of a bs object that takes the html content that was scraped as input\n",
    "soup = BeautifulSoup(page.content, 'html.parser')\n",
    "\n",
    "results = soup.find(id='championPage')\n",
    "## print(results.prettify()) ## can be used to view the html code\n",
    "\n",
    "## Get counters\n"
   ]
  },
  {
   "cell_type": "code",
   "execution_count": 66,
   "metadata": {
    "scrolled": true
   },
   "outputs": [
    {
     "name": "stdout",
     "output_type": "stream",
     "text": [
      "The counters for blitzcrank are:\n",
      "Leona\n",
      "Alistar\n",
      "Morgana\n",
      "Sivir\n",
      "Ezreal\n",
      "Thresh\n",
      "Braum\n",
      "Amumu\n",
      "Taric\n",
      "Illaoi\n",
      "Janna\n",
      "Lulu\n"
     ]
    }
   ],
   "source": [
    "counterBlock = results.find('div', {'class':'weak'})\n",
    "# print(counterBlock)\n",
    "champs = counterBlock.find_all('div', {'class':'champ-block'})\n",
    "# print(champs)\n",
    "names = counterBlock.find_all('a', {'class':'left'})\n",
    "# print(names)\n",
    "\n",
    "names2 = counterBlock.find_all('div',{'class':'name'})\n",
    "\n",
    "print(\"The best counters for \"+ champ_info +\" are:\")\n",
    "for name in names2:\n",
    "    print(name.text)\n"
   ]
  },
  {
   "cell_type": "code",
   "execution_count": null,
   "metadata": {},
   "outputs": [],
   "source": [
    "## Compare to matchups\n"
   ]
  },
  {
   "cell_type": "code",
   "execution_count": null,
   "metadata": {},
   "outputs": [],
   "source": []
  }
 ],
 "metadata": {
  "kernelspec": {
   "display_name": "Python 3",
   "language": "python",
   "name": "python3"
  },
  "language_info": {
   "codemirror_mode": {
    "name": "ipython",
    "version": 3
   },
   "file_extension": ".py",
   "mimetype": "text/x-python",
   "name": "python",
   "nbconvert_exporter": "python",
   "pygments_lexer": "ipython3",
   "version": "3.7.4"
  }
 },
 "nbformat": 4,
 "nbformat_minor": 2
}
